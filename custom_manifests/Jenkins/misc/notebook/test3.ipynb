{
 "cells": [
  {
   "cell_type": "code",
   "execution_count": null,
   "metadata": {},
   "outputs": [],
   "source": [
    "# !apt-get update -y\n",
    "# !apt-get install libxslt-dev libxml2-dev libpam-dev libedit-dev -y\n",
    "# !apt-get install postgresql postgresql-client -y\n",
    "# !apt install postgresql-server-dev-12 -y\n",
    "# !pip install psycopg2 tensorflow kfp --no-cache-dir\n",
    "authservice_session='<oidc_authservice_session_token'\n",
    "namespace=\"<user_id>\"\n"
   ]
  },
  {
   "cell_type": "code",
   "execution_count": null,
   "metadata": {},
   "outputs": [],
   "source": [
    "import os\n",
    "os.getcwd()"
   ]
  },
  {
   "cell_type": "code",
   "execution_count": null,
   "metadata": {},
   "outputs": [],
   "source": [
    "# TensorFlow and tf.keras\n",
    "import tensorflow as tf\n",
    "from tensorflow import keras\n",
    "\n",
    "# Data exploration libraries\n",
    "import numpy as np\n",
    "import matplotlib.pyplot as plt\n",
    "import pandas as pd"
   ]
  },
  {
   "cell_type": "code",
   "execution_count": null,
   "metadata": {},
   "outputs": [],
   "source": [
    "fashion_mnist = keras.datasets.fashion_mnist\n",
    "(train_images, train_labels), (test_images, test_labels) = fashion_mnist.load_data()"
   ]
  },
  {
   "cell_type": "code",
   "execution_count": null,
   "metadata": {},
   "outputs": [],
   "source": [
    "class_names = ['T-shirt/top', 'Trouser', 'Pullover', 'Dress', 'Coat', 'Sandal', 'Shirt', 'Sneaker', 'Bag', 'Ankle boot']"
   ]
  },
  {
   "cell_type": "code",
   "execution_count": null,
   "metadata": {},
   "outputs": [],
   "source": [
    "print(f'Number of training images: {train_images.shape[0]}')\n",
    "print(f'Number of test images: {test_images.shape[0]}')\n",
    "print(f'Image size: {train_images.shape[1:]}')\n",
    "print(f'Number of labels: {len(train_labels)}')\n",
    "print(f'Number of test labels: {len(test_labels)}')"
   ]
  },
  {
   "cell_type": "code",
   "execution_count": null,
   "metadata": {},
   "outputs": [],
   "source": [
    "unique_train_labels = np.unique(train_labels)\n",
    "train_images = train_images / 255.0\n",
    "test_images = test_images / 255.0"
   ]
  },
  {
   "cell_type": "code",
   "execution_count": null,
   "metadata": {},
   "outputs": [],
   "source": [
    "import kfp\n",
    "import kfp.dsl as dsl\n",
    "import kfp.components as comp"
   ]
  },
  {
   "cell_type": "code",
   "execution_count": null,
   "metadata": {},
   "outputs": [],
   "source": [
    "def train(data_path, model_file):\n",
    "    \n",
    "    # func_to_container_op requires packages to be imported inside of the function.\n",
    "    import pickle\n",
    "    \n",
    "    import tensorflow as tf\n",
    "    from tensorflow import keras\n",
    "    \n",
    "    # Download the dataset and split into training and test data. \n",
    "    fashion_mnist = keras.datasets.fashion_mnist\n",
    "\n",
    "    (train_images, train_labels), (test_images, test_labels) = fashion_mnist.load_data()\n",
    "\n",
    "    # Normalize the data so that the values all fall between 0 and 1.\n",
    "    train_images = train_images / 255.0\n",
    "    test_images = test_images / 255.0\n",
    "\n",
    "    # Define the model using Keras.\n",
    "    model = keras.Sequential([\n",
    "    keras.layers.Flatten(input_shape=(28, 28)),\n",
    "    keras.layers.Dense(128, activation='relu'),\n",
    "    keras.layers.Dense(10)\n",
    "    ])\n",
    "\n",
    "    model.compile(optimizer='adam',\n",
    "                  loss=keras.losses.SparseCategoricalCrossentropy(from_logits=True),\n",
    "                  metrics=['accuracy'])\n",
    "\n",
    "    # Run a training job with specified number of epochs\n",
    "    model.fit(train_images, train_labels, epochs=10)\n",
    "\n",
    "    # Evaluate the model and print the results\n",
    "    test_loss, test_acc = model.evaluate(test_images,  test_labels, verbose=2)\n",
    "    print('Test accuracy:', test_acc)\n",
    "\n",
    "    # Save the model to the designated \n",
    "    model.save(f'{data_path}/{model_file}')\n",
    "\n",
    "    # Save the test_data as a pickle file to be used by the predict component.\n",
    "    with open(f'{data_path}/test_data', 'wb') as f:\n",
    "        pickle.dump((test_images,test_labels), f)"
   ]
  },
  {
   "cell_type": "code",
   "execution_count": null,
   "metadata": {},
   "outputs": [],
   "source": [
    "def predict(data_path, model_file, image_number):\n",
    "    \n",
    "    # func_to_container_op requires packages to be imported inside of the function.\n",
    "    import pickle\n",
    "\n",
    "    import tensorflow as tf\n",
    "    from tensorflow import keras\n",
    "\n",
    "    import numpy as np\n",
    "    \n",
    "    # Load the saved Keras model\n",
    "    model = keras.models.load_model(f'{data_path}/{model_file}')\n",
    "\n",
    "    # Load and unpack the test_data\n",
    "    with open(f'{data_path}/test_data','rb') as f:\n",
    "        test_data = pickle.load(f)\n",
    "    # Separate the test_images from the test_labels.\n",
    "    test_images, test_labels = test_data\n",
    "    # Define the class names.\n",
    "    class_names = ['T-shirt/top', 'Trouser', 'Pullover', 'Dress', 'Coat',\n",
    "                   'Sandal', 'Shirt', 'Sneaker', 'Bag', 'Ankle boot']\n",
    "\n",
    "    # Define a Softmax layer to define outputs as probabilities\n",
    "    probability_model = tf.keras.Sequential([model, \n",
    "                                            tf.keras.layers.Softmax()])\n",
    "\n",
    "    # See https://github.com/kubeflow/pipelines/issues/2320 for explanation on this line.\n",
    "    image_number = int(image_number)\n",
    "\n",
    "    # Grab an image from the test dataset.\n",
    "    img = test_images[image_number]\n",
    "\n",
    "    # Add the image to a batch where it is the only member.\n",
    "    img = (np.expand_dims(img,0))\n",
    "\n",
    "    # Predict the label of the image.\n",
    "    predictions = probability_model.predict(img)\n",
    "\n",
    "    # Take the prediction with the highest probability\n",
    "    prediction = np.argmax(predictions[0])\n",
    "\n",
    "    # Retrieve the true label of the image from the test labels.\n",
    "    true_label = test_labels[image_number]\n",
    "    \n",
    "    class_prediction = class_names[prediction]\n",
    "    confidence = 100*np.max(predictions)\n",
    "    actual = class_names[true_label]\n",
    "    \n",
    "    \n",
    "    with open(f'{data_path}/result.txt', 'w') as result:\n",
    "        result.write(\" Prediction: {} | Confidence: {:2.0f}% | Actual: {}\".format(class_prediction,\n",
    "                                                                        confidence,\n",
    "                                                                        actual))\n",
    "    \n",
    "    print('Prediction has be saved successfully!')"
   ]
  },
  {
   "cell_type": "code",
   "execution_count": null,
   "metadata": {},
   "outputs": [],
   "source": [
    "def red(data_path, host, db, port, user, pw):\n",
    "    import os\n",
    "    import psycopg2\n",
    "    con=psycopg2.connect(dbname=db, host=host, \n",
    "                         port=port, user=user, password=pw)\n",
    "    print(\"Connection Successful\")\n",
    "    \n",
    "    import csv\n",
    "    cursor = con.cursor()\n",
    "    query = \"\"\"SELECT * FROM who_icd9_vdm_td.icd9_proc\"\"\"\n",
    "    cursor.execute(query)\n",
    "    with open(f'{data_path}/reddata.csv', 'w') as f:\n",
    "        writer = csv.writer(f, delimiter=',')\n",
    "        for row in cursor.fetchall():\n",
    "            writer.writerow(row)\n",
    "    con.close()"
   ]
  },
  {
   "cell_type": "code",
   "execution_count": null,
   "metadata": {},
   "outputs": [],
   "source": [
    "def store(data_path, model_file, bucket):\n",
    "    import os\n",
    "    import boto3\n",
    "    file = (f'{data_path}/{model_file}')\n",
    "    s3client = boto3.client('s3')\n",
    "    bucket_name = bucket\n",
    "    object_key = \"project1/\"+model_file\n",
    "    list_buckets_resp = s3client.list_buckets()\n",
    "    \n",
    "    s3client.put_object(Bucket=bucket_name, Key=object_key, Body=file)"
   ]
  },
  {
   "cell_type": "code",
   "execution_count": null,
   "metadata": {},
   "outputs": [],
   "source": [
    "red_op = comp.func_to_container_op(red, base_image='<image_registry>/kubeflow:ds2')"
   ]
  },
  {
   "cell_type": "code",
   "execution_count": null,
   "metadata": {},
   "outputs": [],
   "source": [
    "# gpu tensorflow/tensorflow:latest-gpu-py3\n",
    "train_op = comp.func_to_container_op(train, base_image='tensorflow/tensorflow')\n",
    "predict_op = comp.func_to_container_op(predict, base_image='tensorflow/tensorflow')"
   ]
  },
  {
   "cell_type": "code",
   "execution_count": null,
   "metadata": {},
   "outputs": [],
   "source": [
    "store_op = comp.func_to_container_op(store, base_image='<image_registry>/kubeflow:ds2')"
   ]
  },
  {
   "cell_type": "code",
   "execution_count": null,
   "metadata": {},
   "outputs": [],
   "source": [
    "client = kfp.Client(host='https://<kubeflow_platform>/pipeline', cookies=f\"authservice_session={authservice_session}\")\n",
    "client.list_experiments(namespace=namespace)"
   ]
  },
  {
   "cell_type": "code",
   "execution_count": null,
   "metadata": {},
   "outputs": [],
   "source": [
    "# Define the pipeline\n",
    "@dsl.pipeline(\n",
    "   name='MNIST Pipeline',\n",
    "   description='To test mnist model training and prediction.'\n",
    ")\n",
    "\n",
    "# Define parameters to be fed into pipeline\n",
    "def mnist_container_pipeline(\n",
    "    data_path: str,\n",
    "    model_file: str, \n",
    "    image_number: int,\n",
    "    host: str,\n",
    "    db: str,\n",
    "    port: int,\n",
    "    user: str,\n",
    "    pw: str,\n",
    "    bucket: str,\n",
    "):\n",
    "    \n",
    "    # Define volume to share data between components.\n",
    "    vop = dsl.VolumeOp(\n",
    "    name=\"create_volume\",\n",
    "    resource_name=\"data-volume\",\n",
    "    size=\"1Gi\")\n",
    "#     storage_class=\"efs-sc\",\n",
    "#     modes=dsl.VOLUME_MODE_RWM)\n",
    "#     vop.execution_options.caching_strategy.max_cache_staleness = \"P0D\"\n",
    "    \n",
    "    red_container = red_op(data_path, host, db, port, user, pw) \\\n",
    "                .add_pvolumes(({data_path: vop.volume})).set_display_name(\"Redshift\")\n",
    "    red_container.execution_options.caching_strategy.max_cache_staleness = \"P0D\"\n",
    "    \n",
    "    # Create MNIST training component.\n",
    "    mnist_training_container = train_op(data_path, model_file) \\\n",
    "                                    .add_pvolumes({data_path: red_container.pvolume})\n",
    "    mnist_training_container.execution_options.caching_strategy.max_cache_staleness = \"P0D\"\n",
    "\n",
    "    # Create pipeline store component.\n",
    "    store_container = store_op(data_path, model_file, bucket) \\\n",
    "                                    .add_pvolumes({data_path: mnist_training_container.pvolume})\n",
    "    store_container.execution_options.caching_strategy.max_cache_staleness = \"P0D\"\n",
    "    \n",
    "    # Create MNIST prediction component.\n",
    "    mnist_predict_container = predict_op(data_path, model_file, image_number) \\\n",
    "                                    .add_pvolumes({data_path: store_container.pvolume})\n",
    "    mnist_predict_container.execution_options.caching_strategy.max_cache_staleness = \"P0D\"\n",
    "\n",
    "    # Print the result of the prediction\n",
    "    mnist_result_container = dsl.ContainerOp(\n",
    "        name=\"print_prediction\",\n",
    "        image='library/bash:4.4.23',\n",
    "        pvolumes={data_path: mnist_predict_container.pvolume},\n",
    "        arguments=['cat', f'{data_path}/result.txt']\n",
    "    )"
   ]
  },
  {
   "cell_type": "code",
   "execution_count": null,
   "metadata": {},
   "outputs": [],
   "source": [
    "DATA_PATH = '/mnt'\n",
    "MODEL_PATH='mnist_model.h5'\n",
    "# An integer representing an image from the test set that the model will attempt to predict the label for.\n",
    "IMAGE_NUMBER = 0\n",
    "\n",
    "HOST='<REDSHIFT_HOSTNAME>'\n",
    "DB='who_icd'\n",
    "PORT=5439\n",
    "\n",
    "BUCKET='kubeflow-usw2-s3bucket-user-datasets-dev'\n",
    "\n",
    "import yaml\n",
    "with open(\"/home/jovyan/credentials.yaml\", 'r') as ymlfile:\n",
    "    cfg = yaml.safe_load(ymlfile)\n",
    "RS_USER=(cfg['redpass']['username'])\n",
    "RS_PASS=(cfg['redpass']['password'])\n",
    "os.environ[\"RS_USER\"] = RS_USER\n",
    "os.environ[\"RS_PASS\"] = RS_PASS"
   ]
  },
  {
   "cell_type": "code",
   "execution_count": null,
   "metadata": {},
   "outputs": [],
   "source": [
    "pipeline_func = mnist_container_pipeline"
   ]
  },
  {
   "cell_type": "code",
   "execution_count": null,
   "metadata": {},
   "outputs": [],
   "source": [
    "experiment_name = 'fashion_mnist_kubeflow'\n",
    "run_name = pipeline_func.__name__ + ' run'\n",
    "\n",
    "arguments = {\"data_path\":DATA_PATH,\n",
    "             \"model_file\":MODEL_PATH,\n",
    "             \"image_number\": IMAGE_NUMBER,\n",
    "             \"host\":HOST,\n",
    "             \"db\":DB,\n",
    "             \"port\":PORT,\n",
    "             \"user\":RS_USER,\n",
    "             \"pw\":RS_PASS,\n",
    "             \"bucket\":BUCKET}\n",
    "\n",
    "# Compile pipeline to generate compressed YAML definition of the pipeline.\n",
    "kfp.compiler.Compiler().compile(pipeline_func,  \n",
    "  '{}.zip'.format(experiment_name))\n",
    "\n",
    "# Submit pipeline directly from pipeline function\n",
    "# run_result = client.create_run_from_pipeline_func(pipeline_func, \n",
    "#                                                   experiment_name=experiment_name, \n",
    "#                                                   run_name=run_name, \n",
    "#                                                   arguments=arguments)"
   ]
  },
  {
   "cell_type": "code",
   "execution_count": null,
   "metadata": {},
   "outputs": [],
   "source": [
    "import kfp\n",
    "client = kfp.Client(host='https://<kubeflow_platform>/pipeline', cookies=f\"authservice_session={authservice_session}\", namespace=namespace)\n",
    "client.list_experiments(namespace=namespace)\n",
    "client.set_user_namespace(namespace=namespace)\n",
    "client.create_run_from_pipeline_func(mnist_container_pipeline, arguments=arguments)"
   ]
  },
  {
   "cell_type": "code",
   "execution_count": null,
   "metadata": {},
   "outputs": [],
   "source": []
  },
  {
   "cell_type": "code",
   "execution_count": null,
   "metadata": {},
   "outputs": [],
   "source": []
  }
 ],
 "metadata": {
  "kernelspec": {
   "display_name": "Python 3",
   "language": "python",
   "name": "python3"
  },
  "language_info": {
   "codemirror_mode": {
    "name": "ipython",
    "version": 3
   },
   "file_extension": ".py",
   "mimetype": "text/x-python",
   "name": "python",
   "nbconvert_exporter": "python",
   "pygments_lexer": "ipython3",
   "version": "3.9.5"
  }
 },
 "nbformat": 4,
 "nbformat_minor": 5
}
